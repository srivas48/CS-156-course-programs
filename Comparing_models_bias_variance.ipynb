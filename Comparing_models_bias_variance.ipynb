{
 "cells": [
  {
   "cell_type": "code",
   "execution_count": 1,
   "metadata": {},
   "outputs": [],
   "source": [
    "import numpy as np\n",
    "import matplotlib \n",
    "matplotlib.use('nbagg')\n",
    "import matplotlib.pyplot as plt\n",
    "import random"
   ]
  },
  {
   "cell_type": "code",
   "execution_count": 29,
   "metadata": {},
   "outputs": [
    {
     "name": "stdout",
     "output_type": "stream",
     "text": [
      "The average slope of the hypothesis is:  0.961253383145\n",
      "The bias is:  0.196863858778\n",
      "The variance is:  0.00267706100431\n"
     ]
    }
   ],
   "source": [
    "# Approximating sin(pi*x) using y = ax under the MSE criterion and calculating the average hypothesis\n",
    "a_avg = 0\n",
    "a_avg_sq = 0\n",
    "nsims = 10000\n",
    "N = 2 # The sample size\n",
    "for i in range(nsims):\n",
    "    x_input = np.random.uniform(-1,1,N)\n",
    "    sinx_response = np.sin(np.pi*x_input)\n",
    "    a_avg = a_avg + (np.dot(x_input,sinx_response)/np.dot(x_input,x_input))\n",
    "    a_avg_sq = a_avg_sq + ((np.dot(x_input,sinx_response)/np.dot(x_input,x_input))**2)\n",
    "a_avg = a_avg/nsims\n",
    "a_avg_sq = a_avg_sq/nsims\n",
    "print(\"The average slope of the hypothesis is: \", a_avg)\n",
    "\n",
    "# Estimating the Bias Ex[(gbar(x) - f(x))^2]\n",
    "bias = 0\n",
    "for i in range(nsims):\n",
    "    x = np.random.uniform(-1,1)\n",
    "    bias = bias + ((a_avg*x) - np.sin(np.pi*x))**2\n",
    "bias = bias/nsims\n",
    "print(\"The bias is: \",bias)\n",
    "\n",
    "# Estimating the variance ExEd[(gd(x) - gbar(x))^2]\n",
    "# Variance can be estimated analytically in this case\n",
    "variance = (a_avg_sq - a_avg**2)/3\n",
    "print(\"The variance is: \",variance)"
   ]
  },
  {
   "cell_type": "code",
   "execution_count": 35,
   "metadata": {},
   "outputs": [
    {
     "name": "stdout",
     "output_type": "stream",
     "text": [
      "The expected out of sample error for y=b is:  0.501342230097\n",
      "The expected out of sample error for y=ax is:  0.201620994138\n",
      "The expected out of sample error for y = ax + b is:  0.20272484481\n",
      "The expected out of sample error for y = a*x^2 is:  0.49641892053\n"
     ]
    }
   ],
   "source": [
    "# Comparing models based on Expected Out of sample error\n",
    "x_input = np.random.uniform(-1,1,N)\n",
    "sinx_response = np.sin(np.pi*x_input)\n",
    "\n",
    "# expected out of sample error for y = b\n",
    "out_smpl_error_const_mod = (np.mean(np.sin(np.pi*x_input)))**2 + 0.5\n",
    "print(\"The expected out of sample error for y=b is: \",out_smpl_error_const_mod)\n",
    "\n",
    "# expected out of sample error for y = a*x\n",
    "a_hat = np.dot(x_input,sinx_response)/np.dot(x_input,x_input)\n",
    "out_smpl_error_linear_mod_no_intercept = (a_hat**2)/3 + 0.5 - (2*a_hat/np.pi)\n",
    "print(\"The expected out of sample error for y=ax is: \",out_smpl_error_linear_mod_no_intercept)\n",
    "\n",
    "# expected out of sample error for y = a*x + b\n",
    "x_input2 = np.power(x_input,2)\n",
    "a_hat = (np.dot(x_input,sinx_response)/N - (np.mean(x_input)*np.mean(sinx_response)))/(np.mean(x_input2) - np.mean(x_input)**2)\n",
    "b_hat = np.mean(sinx_response) - (a_hat*np.mean(x_input))\n",
    "out_smpl_error_linear_mod_with_intercept = (a_hat**2)/3 + 0.5 + (b_hat**2) - (2*a_hat/np.pi)\n",
    "print(\"The expected out of sample error for y = ax + b is: \",out_smpl_error_linear_mod_with_intercept)\n",
    "\n",
    "# expected out of sample error for y = a*x^2\n",
    "a_hat = np.dot(x_input2,sinx_response)/np.dot(x_input2,x_input2)\n",
    "out_smpl_error_linear_mod_input_sq = (a_hat**2)/3 + 0.5 - (2*a_hat/np.pi)\n",
    "print(\"The expected out of sample error for y = a*x^2 is: \",out_smpl_error_linear_mod_input_sq)"
   ]
  },
  {
   "cell_type": "code",
   "execution_count": null,
   "metadata": {},
   "outputs": [],
   "source": []
  }
 ],
 "metadata": {
  "kernelspec": {
   "display_name": "Python 3",
   "language": "python",
   "name": "python3"
  },
  "language_info": {
   "codemirror_mode": {
    "name": "ipython",
    "version": 3
   },
   "file_extension": ".py",
   "mimetype": "text/x-python",
   "name": "python",
   "nbconvert_exporter": "python",
   "pygments_lexer": "ipython3",
   "version": "3.6.9"
  }
 },
 "nbformat": 4,
 "nbformat_minor": 2
}
