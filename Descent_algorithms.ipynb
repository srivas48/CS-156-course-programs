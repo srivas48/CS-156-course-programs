{
 "cells": [
  {
   "cell_type": "code",
   "execution_count": 1,
   "metadata": {},
   "outputs": [],
   "source": [
    "import numpy as np\n",
    "import matplotlib \n",
    "matplotlib.use('nbagg')\n",
    "import matplotlib.pyplot as plt\n",
    "import random"
   ]
  },
  {
   "cell_type": "code",
   "execution_count": 23,
   "metadata": {},
   "outputs": [],
   "source": [
    "# Minimizing the error surface E(u,v) = (u*exp(v) - 2v*exp(-u))^2 using Gradient Descent\n",
    "def error_func(u,v):\n",
    "    \"\"\"\n",
    "    Inputs \n",
    "    u -  current value of the weight along U dimension(a scalar)\n",
    "    v - current value of the weight along V dimension(a scalar)\n",
    "    \n",
    "    Output\n",
    "    Returns the value of the function at the current point (a scalar) \n",
    "    \"\"\"\n",
    "    error_value = (u*np.exp(v) - (2*v*np.exp(-u)))**2\n",
    "    return error_value\n",
    "\n",
    "def grad_u(u,v):\n",
    "    \"\"\"\n",
    "    Inputs \n",
    "    u -  current value of the weight along U dimension(a scalar)\n",
    "    v - current value of the weight along V dimension(a scalar)\n",
    "    \n",
    "    Output\n",
    "    Returns the gradient computed along the U dimension (a scalar) \n",
    "    \"\"\"\n",
    "    gradient_wrt_u = 2*(u*np.exp(v) - (2*v*np.exp(-u)))*(np.exp(v) + (2*v*np.exp(-u)))\n",
    "    return gradient_wrt_u\n",
    "\n",
    "def grad_v(u,v):\n",
    "    \"\"\"\n",
    "    Inputs \n",
    "    u -  current value of the weight along U dimension(a scalar)\n",
    "    v - current value of the weight along V dimension(a scalar)\n",
    "    \n",
    "    Output\n",
    "    Returns the gradient computed along the V dimension (a scalar)\n",
    "    \"\"\"\n",
    "    gradient_wrt_v = 2*(u*np.exp(v) - (2*v*np.exp(-u)))*(u*np.exp(v) - (2*np.exp(-u)))\n",
    "    return gradient_wrt_v\n",
    "\n",
    "def grad_vec(u,v):\n",
    "    \"\"\"\n",
    "    Inputs \n",
    "    u -  current value of the weight along U dimension(a scalar)\n",
    "    v - current value of the weight along V dimension(a scalar)\n",
    "    \n",
    "    Output\n",
    "    Returns the gradient (a column vector)\n",
    "    \"\"\"\n",
    "    return np.array([[grad_u(u,v)],[grad_v(u,v)]])\n",
    "\n",
    "def update_weights_grad_desc(weight_current,eta):\n",
    "    \"\"\"\n",
    "    Inputs \n",
    "    eta - Learning rate as defined in the lectures(a scalar)\n",
    "    weight_current - current set of weights(a column vector)\n",
    "    \n",
    "    Output\n",
    "    Returns the updated weights as per the Gradient Descent Rule (a column vector)\n",
    "    \"\"\"\n",
    "    u = weight_current[0,0]\n",
    "    v = weight_current[1,0]\n",
    "    weight_update = weight_current - (eta*grad_vec(u,v))\n",
    "    return weight_update\n",
    "\n",
    "def update_weights_coord_desc(weight_current,eta):\n",
    "    \"\"\"\n",
    "    Inputs \n",
    "    eta - Learning rate as defined in the lectures(a scalar)\n",
    "    weight_current - current set of weights(a column vector)\n",
    "    \n",
    "    Output\n",
    "    Returns the updated weights as per the Coordinate Gradient Descent Rule (a column vector)\n",
    "    \"\"\"\n",
    "    u = weight_current[0,0]\n",
    "    v = weight_current[1,0]\n",
    "    u = u - eta*grad_u(u,v)\n",
    "    v = v - eta*grad_v(u,v)\n",
    "    weight_update = np.array([[u],[v]])\n",
    "    return weight_update"
   ]
  },
  {
   "cell_type": "code",
   "execution_count": 24,
   "metadata": {
    "scrolled": true
   },
   "outputs": [
    {
     "name": "stdout",
     "output_type": "stream",
     "text": [
      "The number of iterations for reducing the error below the threshold is:  10\n",
      "The error is:  1.20868339442e-15\n",
      "The final weights are:  [[ 0.04473629]\n",
      " [ 0.02395871]]\n"
     ]
    }
   ],
   "source": [
    "# Running the Gradient Descent algorithm\n",
    "threshold = 10**(-14)\n",
    "eta = 0.1\n",
    "weight_init = np.array([[1],[1]])\n",
    "error = 1\n",
    "iterations = 0\n",
    "while error>=threshold:\n",
    "    weight_init = update_weights_grad_desc(weight_init, eta)\n",
    "    error = error_func(weight_init[0,0],weight_init[1,0])\n",
    "    iterations = iterations + 1\n",
    "print(\"The number of iterations for reducing the error below the threshold is: \",iterations)\n",
    "print(\"The error is: \",error)\n",
    "print(\"The final weights are: \", weight_init)"
   ]
  },
  {
   "cell_type": "code",
   "execution_count": 26,
   "metadata": {},
   "outputs": [
    {
     "name": "stdout",
     "output_type": "stream",
     "text": [
      "The number of iterations is:  15\n",
      "The error after these many iterations is:  0.139813791996\n",
      "The final weights are:  [[ 6.2970759 ]\n",
      " [-2.85230695]]\n"
     ]
    }
   ],
   "source": [
    "# Comparing the gradient descent with Coordinate Descent Algorithm for the same eta and weight_init\n",
    "iter_threshold = 15\n",
    "iterations = 0\n",
    "weight_init = np.array([[1],[1]])\n",
    "eta = 0.1\n",
    "while iterations<iter_threshold:\n",
    "    weight_init = update_weights_coord_desc(weight_init, eta)\n",
    "    error = error_func(weight_init[0,0],weight_init[1,0])\n",
    "    iterations = iterations + 1\n",
    "print(\"The number of iterations is: \",iterations)\n",
    "print(\"The error after these many iterations is: \",error)\n",
    "print(\"The final weights are: \", weight_init)"
   ]
  },
  {
   "cell_type": "code",
   "execution_count": null,
   "metadata": {},
   "outputs": [],
   "source": []
  }
 ],
 "metadata": {
  "kernelspec": {
   "display_name": "Python 3",
   "language": "python",
   "name": "python3"
  },
  "language_info": {
   "codemirror_mode": {
    "name": "ipython",
    "version": 3
   },
   "file_extension": ".py",
   "mimetype": "text/x-python",
   "name": "python",
   "nbconvert_exporter": "python",
   "pygments_lexer": "ipython3",
   "version": "3.6.9"
  }
 },
 "nbformat": 4,
 "nbformat_minor": 2
}
