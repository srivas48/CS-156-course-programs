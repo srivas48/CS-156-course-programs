{
 "cells": [
  {
   "cell_type": "code",
   "execution_count": 39,
   "metadata": {},
   "outputs": [],
   "source": [
    "import numpy as np\n",
    "import matplotlib \n",
    "matplotlib.use('nbagg')\n",
    "import matplotlib.pyplot as plt"
   ]
  },
  {
   "cell_type": "code",
   "execution_count": 60,
   "metadata": {},
   "outputs": [],
   "source": [
    "# Defining the functions to compute various bounds and growth function approximation\n",
    "def mh_approx(a,N,dvc,delta):\n",
    "    return np.log((a*np.power(N,dvc))/delta)\n",
    "    \n",
    "def VC_bound(dvc,delta,N):\n",
    "    epsilon = np.power((8/N)*(mh_approx(4,N,dvc,delta)),0.5)\n",
    "    return epsilon\n",
    "\n",
    "def Rademacher_penalty_bound(dvc,delta,N):\n",
    "    epsilon = np.power((2/N)*(mh_approx(2,N/2,dvc,1)),0.5) + np.power((2/N)*np.log(1/delta),0.5) + (1/N)\n",
    "    return epsilon\n",
    "\n",
    "def parrondo_vd_bound(dvc,delta,N):\n",
    "    x = mh_approx(6,N,dvc,delta)\n",
    "    epsilon = (1 + np.power((N*x) + 1,0.5))/N\n",
    "    return epsilon\n",
    "\n",
    "def devroye_bound(dvc,delta,N):\n",
    "    N_mod = (np.power(N,2))/2\n",
    "    x =  mh_approx(4,N_mod,dvc,delta)\n",
    "    epsilon = np.power((1 + (1 + (N/2 - 1)*x)),0.5)/(N-2)\n",
    "    return epsilon"
   ]
  },
  {
   "cell_type": "code",
   "execution_count": 54,
   "metadata": {},
   "outputs": [],
   "source": [
    "dvc = 10\n",
    "delta = 0.05\n",
    "N = np.arange(5,100,5)"
   ]
  },
  {
   "cell_type": "code",
   "execution_count": 59,
   "metadata": {},
   "outputs": [
    {
     "data": {
      "text/plain": [
       "array([  9.43348392,  12.20607265,  13.82793308,  14.97866137,\n",
       "        15.87123557,  16.6005218 ,  17.21712452,  17.75125009,\n",
       "        18.22238223,  18.6438243 ,  19.02506501,  19.37311052,\n",
       "        19.69328135,  19.98971324,  20.26568473,  20.52383881,\n",
       "        20.7663373 ,  20.99497095,  21.21123984])"
      ]
     },
     "execution_count": 59,
     "metadata": {},
     "output_type": "execute_result"
    }
   ],
   "source": []
  },
  {
   "cell_type": "code",
   "execution_count": null,
   "metadata": {},
   "outputs": [],
   "source": [
    "# Defining a function to visualize the variation of generalization error with respect to sample size\n",
    "def visual_bounds(dvc,delta=0.05,N):\n",
    "    \"\"\"\n",
    "    Inputs\n",
    "    dvc: Scalar, VC dimension of the hypotheses set \n",
    "    delta: scalar, 1 - confidence level (defaults to 95% confidence i.e. delta = 0.05)\n",
    "    N: a 1D numpy array containing the sample sizes \n",
    "    \n",
    "    output: Plots the generalization error with respect to the elements in N\n",
    "    \"\"\"\n",
    "    fig = plt.figure()\n",
    "    ax = fig.add_subplot(111)\n",
    "    ax.set_title(\"epsilon vs N\")\n",
    "    ax.scatter()\n",
    "    ax.plot(data_complete[:,1],(-1/weight_3D[2,0])*(weight_3D[0,0] + (weight_3D[1,0])*data_complete[:,1]))\n",
    "    plt.show()\n",
    "    return"
   ]
  },
  {
   "cell_type": "code",
   "execution_count": 61,
   "metadata": {},
   "outputs": [
    {
     "name": "stderr",
     "output_type": "stream",
     "text": [
      "C:\\Users\\Ashutosh Srivastava\\Anaconda3\\lib\\site-packages\\ipykernel_launcher.py:3: RuntimeWarning: invalid value encountered in power\n",
      "  This is separate from the ipykernel package so we can avoid doing imports until\n",
      "C:\\Users\\Ashutosh Srivastava\\Anaconda3\\lib\\site-packages\\ipykernel_launcher.py:3: RuntimeWarning: overflow encountered in int_scalars\n",
      "  This is separate from the ipykernel package so we can avoid doing imports until\n",
      "C:\\Users\\Ashutosh Srivastava\\Anaconda3\\lib\\site-packages\\ipykernel_launcher.py:3: RuntimeWarning: divide by zero encountered in log\n",
      "  This is separate from the ipykernel package so we can avoid doing imports until\n"
     ]
    },
    {
     "data": {
      "text/plain": [
       "[inf, 1.1471129287444777, inf, 0.67610368904755169]"
      ]
     },
     "execution_count": 61,
     "metadata": {},
     "output_type": "execute_result"
    }
   ],
   "source": [
    "# Bound comparison for higher N\n",
    "N = 100\n",
    "bounds_com_list = [VC_bound(dvc,delta,N),Rademacher_penalty_bound(dvc,delta,N),parrondo_vd_bound(dvc,delta,N),devroye_bound(dvc,delta,N)]\n",
    "bounds_com_list\n",
    "# Clearly devroye is lower for higher values of N"
   ]
  },
  {
   "cell_type": "code",
   "execution_count": 11,
   "metadata": {},
   "outputs": [
    {
     "data": {
      "text/plain": [
       "[13.828161484991483,\n",
       " 6.9925615113259081,\n",
       " 5.1013619819899922,\n",
       " 5.5931255431826692]"
      ]
     },
     "execution_count": 11,
     "metadata": {},
     "output_type": "execute_result"
    }
   ],
   "source": [
    "# Bound comparison for lower N\n",
    "N = 5\n",
    "bounds_com_list = [VC_bound(dvc,delta,N),Rademacher_penalty_bound(dvc,delta,N),parrondo_vd_bound(dvc,delta,N),devroye_bound(dvc,delta,N)]\n",
    "bounds_com_list\n",
    "# Clearly Parrondo and Van den Broek bound is lower for lower values of N"
   ]
  },
  {
   "cell_type": "code",
   "execution_count": null,
   "metadata": {},
   "outputs": [],
   "source": []
  }
 ],
 "metadata": {
  "kernelspec": {
   "display_name": "Python 3",
   "language": "python",
   "name": "python3"
  },
  "language_info": {
   "codemirror_mode": {
    "name": "ipython",
    "version": 3
   },
   "file_extension": ".py",
   "mimetype": "text/x-python",
   "name": "python",
   "nbconvert_exporter": "python",
   "pygments_lexer": "ipython3",
   "version": "3.6.9"
  }
 },
 "nbformat": 4,
 "nbformat_minor": 2
}
