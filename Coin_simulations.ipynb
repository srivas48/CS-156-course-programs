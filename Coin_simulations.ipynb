{
 "cells": [
  {
   "cell_type": "code",
   "execution_count": 1,
   "metadata": {},
   "outputs": [],
   "source": [
    "import numpy as np\n",
    "import matplotlib \n",
    "matplotlib.use('nbagg')\n",
    "import matplotlib.pyplot as plt\n",
    "import random"
   ]
  },
  {
   "cell_type": "code",
   "execution_count": 2,
   "metadata": {},
   "outputs": [],
   "source": [
    "# Designing a coin simulation\n",
    "nsims = 100000\n",
    "no_of_coins = 1000\n",
    "no_of_flips = 10\n",
    "sample_space = [\"H\",\"T\"]\n"
   ]
  },
  {
   "cell_type": "code",
   "execution_count": 9,
   "metadata": {},
   "outputs": [],
   "source": [
    "# Generating the whole distribution\n",
    "result_array = np.zeros((nsims,3))\n",
    "head_indicator = random.choices([\"H\"],k=no_of_flips)\n",
    "for i in range(nsims):\n",
    "    outcome = np.array([random.choices(sample_space,k=no_of_flips*no_of_coins)]).reshape(no_of_coins,no_of_flips)\n",
    "    outcome = outcome.astype(\"str\")\n",
    "    count = []\n",
    "    for j in range(no_of_coins):\n",
    "        count.append(sum(head_indicator==outcome[j]))\n",
    "    indices = [1,np.random.randint(2,no_of_coins),count.index(min(count))]\n",
    "    result_array[i] = (1/no_of_flips)*np.array([sum(head_indicator==outcome[indices[0]]),sum(head_indicator==outcome[indices[1]]),sum(head_indicator==outcome[indices[2]])])    "
   ]
  },
  {
   "cell_type": "code",
   "execution_count": 15,
   "metadata": {},
   "outputs": [
    {
     "data": {
      "text/plain": [
       "array([ 0.499795,  0.500413,  0.037569])"
      ]
     },
     "execution_count": 15,
     "metadata": {},
     "output_type": "execute_result"
    }
   ],
   "source": [
    "np.mean(result_array,axis=0)"
   ]
  },
  {
   "cell_type": "code",
   "execution_count": null,
   "metadata": {},
   "outputs": [],
   "source": []
  }
 ],
 "metadata": {
  "kernelspec": {
   "display_name": "Python 3",
   "language": "python",
   "name": "python3"
  },
  "language_info": {
   "codemirror_mode": {
    "name": "ipython",
    "version": 3
   },
   "file_extension": ".py",
   "mimetype": "text/x-python",
   "name": "python",
   "nbconvert_exporter": "python",
   "pygments_lexer": "ipython3",
   "version": "3.6.9"
  }
 },
 "nbformat": 4,
 "nbformat_minor": 2
}
